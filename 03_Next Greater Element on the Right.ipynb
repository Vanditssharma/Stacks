{
 "cells": [
  {
   "cell_type": "code",
   "execution_count": 7,
   "metadata": {},
   "outputs": [],
   "source": [
    "# Reverse Array Approach O(n)\n",
    "def rightElement(arr):\n",
    "    \n",
    "    stack = []\n",
    "    ans =[]\n",
    "    for i in range(len(arr)-1,-1,-1):\n",
    "        \n",
    "        while(len(stack)>0 and stack[-1]<=arr[i]):\n",
    "            stack.pop()\n",
    "            \n",
    "        ans.append(stack[-1]) if len(stack)!=0 else ans.append(-1)\n",
    "        stack.append(arr[i])\n",
    "    \n",
    "    for i in range(len(ans)-1,-1,-1):\n",
    "        print(ans.pop())"
   ]
  },
  {
   "cell_type": "code",
   "execution_count": 8,
   "metadata": {},
   "outputs": [
    {
     "name": "stdout",
     "output_type": "stream",
     "text": [
      "5\n",
      "9\n",
      "12\n",
      "12\n",
      "12\n",
      "-1\n",
      "8\n",
      "-1\n",
      "-1\n"
     ]
    }
   ],
   "source": [
    "arr = [2,5,9,3,1,12,6,8,7]\n",
    "rightElement(arr)"
   ]
  },
  {
   "cell_type": "code",
   "execution_count": 13,
   "metadata": {},
   "outputs": [],
   "source": [
    "# Second Approach O(n)\n",
    "def rightElement2(arr):\n",
    "    \n",
    "    stack = []\n",
    "    ans=[-2 for i in range(len(arr))]\n",
    "    \n",
    "    for i in range(0,len(arr)):\n",
    "        \n",
    "        while(len(stack)>0 and arr[i]>arr[stack[-1]]):\n",
    "            ans[stack.pop()]=arr[i]\n",
    "\n",
    "        stack.append(i)\n",
    "        \n",
    "    for i in stack:\n",
    "        ans[i]=-1\n",
    "    \n",
    "    print(ans)"
   ]
  },
  {
   "cell_type": "code",
   "execution_count": 14,
   "metadata": {},
   "outputs": [
    {
     "name": "stdout",
     "output_type": "stream",
     "text": [
      "[5, 9, 12, 12, 12, -1, 8, -1, -1]\n"
     ]
    }
   ],
   "source": [
    "arr = [2,5,9,3,1,12,6,8,7]\n",
    "rightElement2(arr)"
   ]
  },
  {
   "cell_type": "code",
   "execution_count": null,
   "metadata": {},
   "outputs": [],
   "source": []
  }
 ],
 "metadata": {
  "kernelspec": {
   "display_name": "Python 3",
   "language": "python",
   "name": "python3"
  },
  "language_info": {
   "codemirror_mode": {
    "name": "ipython",
    "version": 3
   },
   "file_extension": ".py",
   "mimetype": "text/x-python",
   "name": "python",
   "nbconvert_exporter": "python",
   "pygments_lexer": "ipython3",
   "version": "3.8.5"
  }
 },
 "nbformat": 4,
 "nbformat_minor": 4
}
