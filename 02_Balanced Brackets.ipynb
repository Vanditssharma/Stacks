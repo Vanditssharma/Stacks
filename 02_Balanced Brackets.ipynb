{
 "cells": [
  {
   "cell_type": "code",
   "execution_count": 3,
   "metadata": {},
   "outputs": [],
   "source": [
    "def balanceBrackets(s):\n",
    "    \n",
    "    stack = []\n",
    "    for i in s:\n",
    "        \n",
    "        if i == '[' or i=='{' or i=='(':\n",
    "            stack.append(i)\n",
    "        \n",
    "        elif i == ']':\n",
    "            if len(stack)==0 or stack[-1] != '[':\n",
    "                return False\n",
    "            stack.pop()\n",
    "            \n",
    "            \n",
    "        elif i=='}':\n",
    "            if len(stack)==0 or stack[-1] != '{':\n",
    "                return False\n",
    "            stack.pop()\n",
    "            \n",
    "        elif i==')':\n",
    "            if len(stack)==0 or stack[-1] != '(':\n",
    "                return False\n",
    "            stack.pop()\n",
    "            \n",
    "    if len(stack)!=0:\n",
    "        return False\n",
    "    return True"
   ]
  },
  {
   "cell_type": "code",
   "execution_count": 11,
   "metadata": {},
   "outputs": [
    {
     "data": {
      "text/plain": [
       "True"
      ]
     },
     "execution_count": 11,
     "metadata": {},
     "output_type": "execute_result"
    }
   ],
   "source": [
    "s = '([{a+b-c}-8+k])'\n",
    "balanceBrackets(s)"
   ]
  }
 ],
 "metadata": {
  "kernelspec": {
   "display_name": "Python 3",
   "language": "python",
   "name": "python3"
  },
  "language_info": {
   "codemirror_mode": {
    "name": "ipython",
    "version": 3
   },
   "file_extension": ".py",
   "mimetype": "text/x-python",
   "name": "python",
   "nbconvert_exporter": "python",
   "pygments_lexer": "ipython3",
   "version": "3.8.5"
  }
 },
 "nbformat": 4,
 "nbformat_minor": 4
}
