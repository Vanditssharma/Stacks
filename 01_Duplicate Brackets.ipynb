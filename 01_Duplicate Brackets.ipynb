{
 "cells": [
  {
   "cell_type": "code",
   "execution_count": 1,
   "metadata": {},
   "outputs": [],
   "source": [
    "def check(s):\n",
    "    \n",
    "    stack = []\n",
    "    for i in s:\n",
    "        \n",
    "        if i!=')':\n",
    "            stack.append(i)\n",
    "            \n",
    "        else:\n",
    "            if stack[-1]=='(':\n",
    "                return True\n",
    "            else:\n",
    "                while stack[-1]!='(':\n",
    "                    stack.pop()\n",
    "                    \n",
    "                stack.pop()\n",
    "    return False\n",
    "            "
   ]
  },
  {
   "cell_type": "code",
   "execution_count": 5,
   "metadata": {},
   "outputs": [
    {
     "data": {
      "text/plain": [
       "True"
      ]
     },
     "execution_count": 5,
     "metadata": {},
     "output_type": "execute_result"
    }
   ],
   "source": [
    "s='((a+b) + ((c+d)))'\n",
    "check(s)"
   ]
  }
 ],
 "metadata": {
  "kernelspec": {
   "display_name": "Python 3",
   "language": "python",
   "name": "python3"
  },
  "language_info": {
   "codemirror_mode": {
    "name": "ipython",
    "version": 3
   },
   "file_extension": ".py",
   "mimetype": "text/x-python",
   "name": "python",
   "nbconvert_exporter": "python",
   "pygments_lexer": "ipython3",
   "version": "3.8.5"
  }
 },
 "nbformat": 4,
 "nbformat_minor": 4
}
